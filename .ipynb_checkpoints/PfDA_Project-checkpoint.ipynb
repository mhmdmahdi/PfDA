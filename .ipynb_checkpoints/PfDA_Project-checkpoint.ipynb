{
 "cells": [
  {
   "cell_type": "markdown",
   "id": "a8d46cd4",
   "metadata": {},
   "source": [
    "# PfDA Project\n",
    "***"
   ]
  },
  {
   "cell_type": "markdown",
   "id": "23ed1138",
   "metadata": {},
   "source": [
    "Simply put, the purpose of this project is to examine a number of variables that have a direct impact on an outcome (another variable). These variables are to be taken from real world data. An example of the minimum data required from the example given in the project description is to use at least 4 variables, e.g. 'w', 'x', 'y' and 'z' and examine their impact on an outcome variable 'v'.\n",
    "A random generator is then used to simulate new data (the dice roll example taken from 'Fundamentals of Data Analytics' can be used as a reference or even the 'pie' generator once this can be linked to an outcome that will provide realistic information required for 'x', 'y' and 'z' which in turn will provide an outcome for 'v' every time the code is executed). I may build my own generator if I find I have time otherwise I may utilise one of the python packages. \n",
    "I will then analyse this data by utilising statistical models and plots available. I should also figure out which distribution is applicable.\n",
    "\n",
    "1. Choose a data set\n",
    "2. Investigate the relationship of the 4 variables to each other and to an outcome\n",
    "3. Synthesize/ simulate data based on the data set - use a random generator\n",
    "4. Analyse again as per point 2 and details any correlations"
   ]
  },
  {
   "cell_type": "markdown",
   "id": "c6387d99",
   "metadata": {},
   "source": [
    "## 1. Choose a data set  \n",
    "***"
   ]
  },
  {
   "cell_type": "markdown",
   "id": "047f8a67",
   "metadata": {},
   "source": [
    "After some research into appropriate applicable data sets I have decided to research and analyse the topic of suicide. Suicide is a leading cause of death, especially among young people and what is astounding is that more people die by suicide than by homicide, in fact almost twice as many. Much of the data and information for this project was taken from OurWorldinData - https://ourworldindata.org/suicide\n",
    "\n",
    "Huge increases have been seen in the number of deaths by suicide year on year. In 2017 around 800,000 deaths by suicide were reported. This is twice as many as the number of deaths by homicide (400,000), more than 7 times as many as the number of deaths by conflict (125,000) and around 30 times as many as the number of deaths by terrorism (25,000). By 2020 the number of deaths by suicide rose to over 1,000,000.\n",
    "Suicide tends to affect more males than females and geographical location also plays a part with Europe and America most hit. Age is another big factor which seem to have a relationship to deaths by suicide.\n",
    "https://apps.who.int/gho/data/node.sdg.3-4-viz-2?lang=en"
   ]
  },
  {
   "cell_type": "markdown",
   "id": "e75fb521",
   "metadata": {},
   "source": [
    "A number of variables of interest were examined and compiled into a single .csv file. The figures chosen were from 2017 data sets available on the OurWorldinData link - https://ourworldindata.org/suicide\n",
    "These values were taken from 3 different .csv files that were downloaded from the above site and trended the data against country (this being the common variable across the files):\n",
    "1. suicide-death-rates\n",
    "2. suicide-death-rates-by-sex\n",
    "3. suicide-rates-by-age-detailed\n",
    "These were then compiled into a single .csv file after filtering out the desired information. This .csv file is the file that will be used for the analysis of this project.\n",
    "Each of the variables listed above were chosen to assess the relationships to suicide rates."
   ]
  },
  {
   "cell_type": "code",
   "execution_count": null,
   "id": "ccf5175d",
   "metadata": {},
   "outputs": [],
   "source": []
  }
 ],
 "metadata": {
  "kernelspec": {
   "display_name": "Python 3 (ipykernel)",
   "language": "python",
   "name": "python3"
  },
  "language_info": {
   "codemirror_mode": {
    "name": "ipython",
    "version": 3
   },
   "file_extension": ".py",
   "mimetype": "text/x-python",
   "name": "python",
   "nbconvert_exporter": "python",
   "pygments_lexer": "ipython3",
   "version": "3.9.13"
  }
 },
 "nbformat": 4,
 "nbformat_minor": 5
}
