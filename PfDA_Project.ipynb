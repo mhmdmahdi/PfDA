{
 "cells": [
  {
   "cell_type": "markdown",
   "id": "a8d46cd4",
   "metadata": {},
   "source": [
    "# PfDA Project\n",
    "***"
   ]
  },
  {
   "cell_type": "markdown",
   "id": "23ed1138",
   "metadata": {},
   "source": [
    "Simply put, the purpose of this project is to examine a number of variables that have a direct impact on an outcome (another variable). These variables are to be taken from real world data. An example of the minimum data required from the example given in the project description is to use at least 4 variables, e.g. 'w', 'x', 'y' and 'z' and examine their impact on an outcome variable 'v'.\n",
    "A random generator is then used to simulate new data (the dice roll example taken from 'Fundamentals of Data Analytics' can be used as a reference or even the 'pie' generator once this can be linked to an outcome that will provide realistic information required for 'x', 'y' and 'z' which in turn will provide an outcome for 'v' every time the code is executed). I may build my own generator if I find I have time otherwise I may utilise one of the python packages. \n",
    "I will then analyse this data by utilising statistical models and plots available. I should also figure out which distribution is applicable.\n",
    "\n",
    "1. Choose a data set\n",
    "2. Investigate the relationship of the 4 variables to each other and to an outcome\n",
    "3. Synthesize/ simulate data based on the data set - use a random generator\n",
    "4. Analyse again as per point 2 and details any correlations"
   ]
  },
  {
   "cell_type": "markdown",
   "id": "c6387d99",
   "metadata": {},
   "source": [
    "## 1. Choose a data set  \n",
    "***"
   ]
  },
  {
   "cell_type": "markdown",
   "id": "047f8a67",
   "metadata": {},
   "source": [
    "After some research into appropriate applicable data sets I have decided to research and analyse the topic of suicide. Suicide is a leading cause of death, especially among young people and what is astounding is that more people die by suicide than by homicide, in fact almost twice as many. Much of the data and information for this project was taken from OurWorldinData - https://ourworldindata.org/suicide\n",
    "\n",
    "Huge increases have been seen in the number of deaths by suicide year on year. In 2017 around 800,000 deaths by suicide were reported. This is twice as many as the number of deaths by homicide (400,000), more than 7 times as many as the number of deaths by conflict (125,000) and around 30 times as many as the number of deaths by terrorism (25,000). By 2020 the number of deaths by suicide rose to over 1,000,000.\n",
    "Suicide tends to affect more males than females and geographical location also plays a part with Europe and America most hit. Age is another big factor which seem to have a relationship to deaths by suicide.\n",
    "https://apps.who.int/gho/data/node.sdg.3-4-viz-2?lang=en"
   ]
  },
  {
   "cell_type": "markdown",
   "id": "e75fb521",
   "metadata": {},
   "source": [
    "A number of variables of interest were examined and compiled into a single .csv file. The figures chosen were from 2017 data sets available on the OurWorldinData link - https://ourworldindata.org/suicide\n",
    "These values were taken from 3 different .csv files that were downloaded from the above site and trended the data against country (this being the common variable across the files):\n",
    "1. suicide-death-rates\n",
    "2. suicide-death-rates-by-sex\n",
    "3. suicide-rates-by-age-detailed\n",
    "These were then compiled into a single .csv file after filtering out the desired information. This .csv file is the file that will be used for the analysis of this project.\n",
    "Each of the variables listed above were chosen to assess the relationships to suicide rates."
   ]
  },
  {
   "cell_type": "markdown",
   "id": "7831a2e8",
   "metadata": {},
   "source": [
    "### Import Dataset"
   ]
  },
  {
   "cell_type": "code",
   "execution_count": 3,
   "id": "f6f51028",
   "metadata": {},
   "outputs": [],
   "source": [
    "import pandas as pd"
   ]
  },
  {
   "cell_type": "code",
   "execution_count": 9,
   "id": "ccb719a3",
   "metadata": {},
   "outputs": [
    {
     "data": {
      "text/html": [
       "<div>\n",
       "<style scoped>\n",
       "    .dataframe tbody tr th:only-of-type {\n",
       "        vertical-align: middle;\n",
       "    }\n",
       "\n",
       "    .dataframe tbody tr th {\n",
       "        vertical-align: top;\n",
       "    }\n",
       "\n",
       "    .dataframe thead th {\n",
       "        text-align: right;\n",
       "    }\n",
       "</style>\n",
       "<table border=\"1\" class=\"dataframe\">\n",
       "  <thead>\n",
       "    <tr style=\"text-align: right;\">\n",
       "      <th></th>\n",
       "      <th>Country</th>\n",
       "      <th>Age: 70+ years</th>\n",
       "      <th>Age: 50-69 years</th>\n",
       "      <th>Age: 5-14 years</th>\n",
       "      <th>Age: 15-49 years</th>\n",
       "      <th>Female suicide rate \\n(age-standardized)</th>\n",
       "      <th>Male suicide rate \\n(age-standardized)</th>\n",
       "      <th>Sex: Both - Age: Age-standardized</th>\n",
       "    </tr>\n",
       "  </thead>\n",
       "  <tbody>\n",
       "    <tr>\n",
       "      <th>0</th>\n",
       "      <td>Afghanistan</td>\n",
       "      <td>9.40</td>\n",
       "      <td>10.07</td>\n",
       "      <td>0.24</td>\n",
       "      <td>7.49</td>\n",
       "      <td>4.63</td>\n",
       "      <td>13.99</td>\n",
       "      <td>6.29</td>\n",
       "    </tr>\n",
       "    <tr>\n",
       "      <th>1</th>\n",
       "      <td>African Region (WHO)</td>\n",
       "      <td>45.70</td>\n",
       "      <td>21.47</td>\n",
       "      <td>0.60</td>\n",
       "      <td>7.47</td>\n",
       "      <td>4.63</td>\n",
       "      <td>14.15</td>\n",
       "      <td>10.45</td>\n",
       "    </tr>\n",
       "    <tr>\n",
       "      <th>2</th>\n",
       "      <td>Albania</td>\n",
       "      <td>8.44</td>\n",
       "      <td>5.51</td>\n",
       "      <td>0.73</td>\n",
       "      <td>7.13</td>\n",
       "      <td>NaN</td>\n",
       "      <td>NaN</td>\n",
       "      <td>5.03</td>\n",
       "    </tr>\n",
       "    <tr>\n",
       "      <th>3</th>\n",
       "      <td>Algeria</td>\n",
       "      <td>5.52</td>\n",
       "      <td>3.53</td>\n",
       "      <td>0.27</td>\n",
       "      <td>5.20</td>\n",
       "      <td>2.94</td>\n",
       "      <td>7.35</td>\n",
       "      <td>3.55</td>\n",
       "    </tr>\n",
       "    <tr>\n",
       "      <th>4</th>\n",
       "      <td>American Samoa</td>\n",
       "      <td>12.46</td>\n",
       "      <td>7.47</td>\n",
       "      <td>0.54</td>\n",
       "      <td>10.70</td>\n",
       "      <td>2.23</td>\n",
       "      <td>5.99</td>\n",
       "      <td>7.44</td>\n",
       "    </tr>\n",
       "  </tbody>\n",
       "</table>\n",
       "</div>"
      ],
      "text/plain": [
       "                Country  Age: 70+ years  Age: 50-69 years  Age: 5-14 years  \\\n",
       "0           Afghanistan            9.40             10.07             0.24   \n",
       "1  African Region (WHO)           45.70             21.47             0.60   \n",
       "2               Albania            8.44              5.51             0.73   \n",
       "3               Algeria            5.52              3.53             0.27   \n",
       "4        American Samoa           12.46              7.47             0.54   \n",
       "\n",
       "   Age: 15-49 years   Female suicide rate \\n(age-standardized)  \\\n",
       "0               7.49                                      4.63   \n",
       "1               7.47                                      4.63   \n",
       "2               7.13                                       NaN   \n",
       "3               5.20                                      2.94   \n",
       "4              10.70                                      2.23   \n",
       "\n",
       "   Male suicide rate \\n(age-standardized)  Sex: Both - Age: Age-standardized  \n",
       "0                                   13.99                               6.29  \n",
       "1                                   14.15                              10.45  \n",
       "2                                     NaN                               5.03  \n",
       "3                                    7.35                               3.55  \n",
       "4                                    5.99                               7.44  "
      ]
     },
     "execution_count": 9,
     "metadata": {},
     "output_type": "execute_result"
    }
   ],
   "source": [
    "data = pd.read_csv(r\"C:\\Users\\35387\\Program\\repos\\gitIntro\\Programming\\PfDA_Project\\SuicideRates.csv\")\n",
    "data.head()"
   ]
  },
  {
   "cell_type": "code",
   "execution_count": null,
   "id": "e6ebb21f",
   "metadata": {},
   "outputs": [],
   "source": []
  }
 ],
 "metadata": {
  "kernelspec": {
   "display_name": "Python 3 (ipykernel)",
   "language": "python",
   "name": "python3"
  },
  "language_info": {
   "codemirror_mode": {
    "name": "ipython",
    "version": 3
   },
   "file_extension": ".py",
   "mimetype": "text/x-python",
   "name": "python",
   "nbconvert_exporter": "python",
   "pygments_lexer": "ipython3",
   "version": "3.9.13"
  }
 },
 "nbformat": 4,
 "nbformat_minor": 5
}
